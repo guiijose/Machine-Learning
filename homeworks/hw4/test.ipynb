{
 "cells": [
  {
   "cell_type": "code",
   "execution_count": 8,
   "metadata": {},
   "outputs": [
    {
     "name": "stdout",
     "output_type": "stream",
     "text": [
      "Means: [[ 3.  -1. ]\n",
      " [ 0.5  1. ]]\n",
      "Covariances: [[[ 0.   -0.  ]\n",
      "  [-0.    0.  ]]\n",
      "\n",
      " [[ 0.25 -0.5 ]\n",
      "  [-0.5   1.  ]]]\n",
      "Weights: [0.333 0.667]\n"
     ]
    }
   ],
   "source": [
    "from sklearn.mixture import GaussianMixture\n",
    "import numpy as np\n",
    "\n",
    "# Sample initial parameters\n",
    "# Mean vectors for the two Gaussian components\n",
    "mean1 = np.array([2.0, -1.0])\n",
    "mean2 = np.array([0.0, 2.0])\n",
    "\n",
    "# Covariance matrices for the two components (assuming full covariance)\n",
    "cov_matrix1 = np.array([[4.0, 1.0], [1.0, 4.0]])\n",
    "cov_matrix2 = np.array([[2.0, 0.0], [0.0, 2.0]])\n",
    "\n",
    "# Mixing coefficients (must sum to 1)\n",
    "weight1 = 0.5\n",
    "weight2 = 0.5\n",
    "\n",
    "# Define the Gaussian Mixture Model\n",
    "gmm = GaussianMixture(n_components=2, covariance_type='full', max_iter=100)\n",
    "\n",
    "# Set initial parameters\n",
    "gmm.means_init = np.array([mean1, mean2])\n",
    "gmm.weights_init = np.array([weight1, weight2])\n",
    "gmm.precisions_init = np.linalg.inv(np.array([cov_matrix1, cov_matrix2]))  # inverse for full covariance\n",
    "\n",
    "# Example data points (2D array with each row as a point)\n",
    "X = np.array([[1.0, 0.0], [0.0, 2.0], [3.0, -1.0]])\n",
    "\n",
    "# Fit the model without random initialization\n",
    "gmm.fit(X)\n",
    "\n",
    "# Round to 3 decimal places for easier comparison\n",
    "gmm.means_ = np.round(gmm.means_, 3)\n",
    "gmm.covariances_ = np.round(gmm.covariances_, 3)\n",
    "gmm.weights_ = np.round(gmm.weights_, 3)\n",
    "\n",
    "# Check the results\n",
    "print(\"Means:\", gmm.means_)\n",
    "print(\"Covariances:\", gmm.covariances_)\n",
    "print(\"Weights:\", gmm.weights_)\n"
   ]
  }
 ],
 "metadata": {
  "kernelspec": {
   "display_name": "aprendizagem-env",
   "language": "python",
   "name": "python3"
  },
  "language_info": {
   "codemirror_mode": {
    "name": "ipython",
    "version": 3
   },
   "file_extension": ".py",
   "mimetype": "text/x-python",
   "name": "python",
   "nbconvert_exporter": "python",
   "pygments_lexer": "ipython3",
   "version": "3.9.19"
  }
 },
 "nbformat": 4,
 "nbformat_minor": 2
}
