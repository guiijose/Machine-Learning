{
 "cells": [
  {
   "cell_type": "markdown",
   "metadata": {},
   "source": [
    "# Homework 3 #"
   ]
  },
  {
   "cell_type": "code",
   "execution_count": 4,
   "metadata": {},
   "outputs": [],
   "source": [
    "from sklearn.linear_model import LinearRegression\n",
    "from sklearn.neural_network import MLPRegressor\n",
    "from sklearn.model_selection import train_test_split, GridSearchCV\n",
    "from sklearn.metrics import mean_absolute_error, make_scorer\n",
    "from sklearn.neural_network import MLPRegressor\n",
    "import pandas as pd\n",
    "import numpy as np\n",
    "import matplotlib.pyplot as plt\n",
    "\n",
    "\n",
    "dataset_path = \"/home/gui_ze/Desktop/Machine-Learning/datasets/parkinsons.csv\"\n",
    "\n",
    "df = pd.read_csv(dataset_path)"
   ]
  },
  {
   "cell_type": "code",
   "execution_count": 5,
   "metadata": {},
   "outputs": [],
   "source": [
    "X = df.drop(columns=['target'])\n",
    "y = df['target']\n",
    "\n",
    "def linearRegression(X, y, i):\n",
    "    # split the data with 80% in training and 20% in testing\n",
    "    X_train, X_test, y_train, y_test = train_test_split(X, y, test_size=0.2, random_state=i)\n",
    "\n",
    "    # create the model\n",
    "    model = LinearRegression()\n",
    "\n",
    "    # train the model\n",
    "    model.fit(X_train, y_train)\n",
    "\n",
    "    # test the model using mae as loss function\n",
    "    y_pred = model.predict(X_test)\n",
    "    mae = mean_absolute_error(y_test, y_pred)\n",
    "\n",
    "    return mae\n",
    "\n",
    "def mlp_no_act(X, y, i):\n",
    "     # split the data with 80% in training and 20% in testing\n",
    "    X_train, X_test, y_train, y_test = train_test_split(X, y, test_size=0.2, random_state=i)\n",
    "\n",
    "    # Create the Model\n",
    "    mlp_no_act = MLPRegressor(hidden_layer_sizes = (10, 10), activation = 'identity', random_state = 0)\n",
    "    # Train the Model\n",
    "    mlp_no_act.fit(X_train, y_train)\n",
    "\n",
    "    # Test the Model usin MAE as loss function\n",
    "    y_pred = mlp_no_act.predict(X_test)\n",
    "    mae_mlp_no_act = mean_absolute_error(y_test, y_pred)\n",
    "\n",
    "    return mae_mlp_no_act  \n",
    "\n",
    "def mlp_relu(X, y, i):\n",
    "    # split the data with 80% in training and 20% in testing\n",
    "    X_train, X_test, y_train, y_test = train_test_split(X, y, test_size=0.2, random_state=i)\n",
    "\n",
    "    mlp_relu = MLPRegressor(hidden_layer_sizes = (10, 10), activation = 'relu', random_state = 0)\n",
    "    mlp_relu.fit(X_train, y_train)\n",
    "\n",
    "    y_pred = mlp_relu.predict(X_test)\n",
    "    mae = mean_absolute_error(y_test, y_pred)\n",
    "\n",
    "    return mae\n",
    "\n",
    "    \n"
   ]
  },
  {
   "cell_type": "code",
   "execution_count": 6,
   "metadata": {},
   "outputs": [
    {
     "name": "stderr",
     "output_type": "stream",
     "text": [
      "/home/gui_ze/anaconda3/envs/aprendizagem-env/lib/python3.9/site-packages/sklearn/neural_network/_multilayer_perceptron.py:690: ConvergenceWarning: Stochastic Optimizer: Maximum iterations (200) reached and the optimization hasn't converged yet.\n",
      "  warnings.warn(\n",
      "/home/gui_ze/anaconda3/envs/aprendizagem-env/lib/python3.9/site-packages/sklearn/neural_network/_multilayer_perceptron.py:690: ConvergenceWarning: Stochastic Optimizer: Maximum iterations (200) reached and the optimization hasn't converged yet.\n",
      "  warnings.warn(\n",
      "/home/gui_ze/anaconda3/envs/aprendizagem-env/lib/python3.9/site-packages/sklearn/neural_network/_multilayer_perceptron.py:690: ConvergenceWarning: Stochastic Optimizer: Maximum iterations (200) reached and the optimization hasn't converged yet.\n",
      "  warnings.warn(\n",
      "/home/gui_ze/anaconda3/envs/aprendizagem-env/lib/python3.9/site-packages/sklearn/neural_network/_multilayer_perceptron.py:690: ConvergenceWarning: Stochastic Optimizer: Maximum iterations (200) reached and the optimization hasn't converged yet.\n",
      "  warnings.warn(\n",
      "/home/gui_ze/anaconda3/envs/aprendizagem-env/lib/python3.9/site-packages/sklearn/neural_network/_multilayer_perceptron.py:690: ConvergenceWarning: Stochastic Optimizer: Maximum iterations (200) reached and the optimization hasn't converged yet.\n",
      "  warnings.warn(\n",
      "/home/gui_ze/anaconda3/envs/aprendizagem-env/lib/python3.9/site-packages/sklearn/neural_network/_multilayer_perceptron.py:690: ConvergenceWarning: Stochastic Optimizer: Maximum iterations (200) reached and the optimization hasn't converged yet.\n",
      "  warnings.warn(\n",
      "/home/gui_ze/anaconda3/envs/aprendizagem-env/lib/python3.9/site-packages/sklearn/neural_network/_multilayer_perceptron.py:690: ConvergenceWarning: Stochastic Optimizer: Maximum iterations (200) reached and the optimization hasn't converged yet.\n",
      "  warnings.warn(\n",
      "/home/gui_ze/anaconda3/envs/aprendizagem-env/lib/python3.9/site-packages/sklearn/neural_network/_multilayer_perceptron.py:690: ConvergenceWarning: Stochastic Optimizer: Maximum iterations (200) reached and the optimization hasn't converged yet.\n",
      "  warnings.warn(\n",
      "/home/gui_ze/anaconda3/envs/aprendizagem-env/lib/python3.9/site-packages/sklearn/neural_network/_multilayer_perceptron.py:690: ConvergenceWarning: Stochastic Optimizer: Maximum iterations (200) reached and the optimization hasn't converged yet.\n",
      "  warnings.warn(\n",
      "/home/gui_ze/anaconda3/envs/aprendizagem-env/lib/python3.9/site-packages/sklearn/neural_network/_multilayer_perceptron.py:690: ConvergenceWarning: Stochastic Optimizer: Maximum iterations (200) reached and the optimization hasn't converged yet.\n",
      "  warnings.warn(\n"
     ]
    },
    {
     "name": "stdout",
     "output_type": "stream",
     "text": [
      "MLP RELU:  5.937812508118391\n",
      "MLP NO ACT:  8.099745996058\n",
      "Linear Regression:  8.09721948314559\n"
     ]
    }
   ],
   "source": [
    "mlp_relu_avg = []\n",
    "mlp_no_act_avg = []\n",
    "linearRegression_avg = []\n",
    "for i in range(10):\n",
    "    mlp_relu_avg.append(mlp_relu(X, y, i))\n",
    "    mlp_no_act_avg.append(mlp_no_act(X, y, i))\n",
    "    linearRegression_avg.append(linearRegression(X, y, i))\n",
    "\n",
    "print(\"MLP RELU: \", np.mean(mlp_relu_avg))\n",
    "print(\"MLP NO ACT: \", np.mean(mlp_no_act_avg))\n",
    "print(\"Linear Regression: \", np.mean(linearRegression_avg))"
   ]
  },
  {
   "cell_type": "code",
   "execution_count": 7,
   "metadata": {},
   "outputs": [
    {
     "data": {
      "text/plain": [
       "{'whiskers': [<matplotlib.lines.Line2D at 0x722109630670>,\n",
       "  <matplotlib.lines.Line2D at 0x722109630910>,\n",
       "  <matplotlib.lines.Line2D at 0x722109643940>,\n",
       "  <matplotlib.lines.Line2D at 0x722109643be0>,\n",
       "  <matplotlib.lines.Line2D at 0x72210964cbe0>,\n",
       "  <matplotlib.lines.Line2D at 0x72210964ce80>],\n",
       " 'caps': [<matplotlib.lines.Line2D at 0x722109630bb0>,\n",
       "  <matplotlib.lines.Line2D at 0x722109630e50>,\n",
       "  <matplotlib.lines.Line2D at 0x722109643e80>,\n",
       "  <matplotlib.lines.Line2D at 0x72210964c160>,\n",
       "  <matplotlib.lines.Line2D at 0x722109656160>,\n",
       "  <matplotlib.lines.Line2D at 0x722109656400>],\n",
       " 'boxes': [<matplotlib.lines.Line2D at 0x7221096303d0>,\n",
       "  <matplotlib.lines.Line2D at 0x7221096436a0>,\n",
       "  <matplotlib.lines.Line2D at 0x72210964c940>],\n",
       " 'medians': [<matplotlib.lines.Line2D at 0x722109643130>,\n",
       "  <matplotlib.lines.Line2D at 0x72210964c400>,\n",
       "  <matplotlib.lines.Line2D at 0x7221096566a0>],\n",
       " 'fliers': [<matplotlib.lines.Line2D at 0x7221096433d0>,\n",
       "  <matplotlib.lines.Line2D at 0x72210964c6a0>,\n",
       "  <matplotlib.lines.Line2D at 0x722109656940>],\n",
       " 'means': []}"
      ]
     },
     "execution_count": 7,
     "metadata": {},
     "output_type": "execute_result"
    },
    {
     "data": {
      "image/png": "[encoded data removed]",
      "text/plain": [
       "<Figure size 640x480 with 1 Axes>"
      ]
     },
     "metadata": {},
     "output_type": "display_data"
    }
   ],
   "source": [
    "# boxplot \n",
    "\n",
    "data = [mlp_relu_avg, mlp_no_act_avg, linearRegression_avg]\n",
    "plt.boxplot(data)"
   ]
  },
  {
   "cell_type": "markdown",
   "metadata": {},
   "source": []
  },
  {
   "cell_type": "markdown",
   "metadata": {},
   "source": []
  },
  {
   "cell_type": "code",
   "execution_count": null,
   "metadata": {},
   "outputs": [
    {
     "name": "stderr",
     "output_type": "stream",
     "text": [
      "/home/gui_ze/anaconda3/envs/aprendizagem-env/lib/python3.9/site-packages/sklearn/neural_network/_multilayer_perceptron.py:697: UserWarning: Training interrupted by user.\n",
      "  warnings.warn(\"Training interrupted by user.\")\n"
     ]
    }
   ],
   "source": [
    "param_grid = {\n",
    "    'batch_size': [32, 64, 128],\n",
    "    'learning_rate_init': [0.001, 0.01, 0.1],\n",
    "    'alpha': [0.0001, 0.001, 0.01]\n",
    "}\n",
    "\n",
    "X = df.drop(columns=['target'])\n",
    "y = df['target']\n",
    "\n",
    "# split the data with 80% in training and 20% in testing\n",
    "X_train, X_test, y_train, y_test = train_test_split(X, y, test_size=0.2, random_state=0)\n",
    "\n",
    "# Create an MLPRegressor model\n",
    "model = MLPRegressor(hidden_layer_sizes=(10, 10), activation='relu', random_state=0)\n",
    "\n",
    "# Scoring Function\n",
    "scorer = make_scorer(mean_absolute_error, greater_is_better=False)\n",
    "\n",
    "# Create a GridSearchCV object\n",
    "grid_search = GridSearchCV(model, param_grid, cv=5, scoring = scorer)\n",
    "\n",
    "# Fit the model to your data\n",
    "grid_search.fit(X_train, y_train)\n"
   ]
  },
  {
   "cell_type": "code",
   "execution_count": null,
   "metadata": {},
   "outputs": [],
   "source": [
    "\n",
    "# Melhor combinação de hiperparâmetros\n",
    "best_params = grid_search.best_params_\n",
    "print(f\"Melhores Hiperparâmetros: {best_params}\")\n",
    "\n",
    "# Previsão no conjunto de teste com os melhores parâmetros\n",
    "best_model = grid_search.best_estimator_\n",
    "y_pred = best_model.predict(X_test)\n",
    "\n",
    "# Calcular o MAE no conjunto de teste\n",
    "mae_test = mean_absolute_error(y_test, y_pred)\n",
    "print(f\"MAE no conjunto de teste: {mae_test:.4f}\")\n",
    "\n",
    "# Visualizar os resultados da Grid Search\n",
    "results = pd.DataFrame(grid_search.cv_results_)\n",
    "\n",
    "# Criar subplots para cada valor de batch_size\n",
    "fig, axs = plt.subplots(1, 3, figsize=(18, 6), sharey=True)\n",
    "\n",
    "# Iterar sobre os tamanhos de batch e plotar os resultados\n",
    "for i, batch_size in enumerate(param_grid['batch_size']):\n",
    "    ax = axs[i]\n",
    "    for alpha in param_grid['alpha']:\n",
    "        subset = results[(results['param_batch_size'] == batch_size) & (results['param_alpha'] == alpha)]\n",
    "        ax.plot(subset['param_learning_rate_init'], -subset['mean_test_score'], label=f'alpha={alpha}')\n",
    "    \n",
    "    ax.set_xscale('log')\n",
    "    ax.set_xlabel('Taxa de Aprendizagem (learning_rate_init)')\n",
    "    ax.set_title(f'Batch Size = {batch_size}')\n",
    "    ax.legend()\n",
    "\n",
    "axs[0].set_ylabel('Test MAE')\n",
    "plt.suptitle('MAE em função da taxa de aprendizagem para diferentes valores de L2 e batch size')\n",
    "plt.show()"
   ]
  },
  {
   "cell_type": "code",
   "execution_count": null,
   "metadata": {},
   "outputs": [],
   "source": []
  }
 ],
 "metadata": {
  "kernelspec": {
   "display_name": "aprendizagem-env",
   "language": "python",
   "name": "python3"
  },
  "language_info": {
   "codemirror_mode": {
    "name": "ipython",
    "version": 3
   },
   "file_extension": ".py",
   "mimetype": "text/x-python",
   "name": "python",
   "nbconvert_exporter": "python",
   "pygments_lexer": "ipython3",
   "version": "3.9.19"
  }
 },
 "nbformat": 4,
 "nbformat_minor": 2
}
